{
 "cells": [
  {
   "cell_type": "code",
   "execution_count": 1,
   "id": "19d5c777-a887-4bc7-bade-61ce06b7a7d9",
   "metadata": {},
   "outputs": [
    {
     "name": "stderr",
     "output_type": "stream",
     "text": [
      "/usr/local/spark/python/pyspark/streaming/context.py:72: FutureWarning: DStream is deprecated as of Spark 3.4.0. Migrate to Structured Streaming.\n",
      "  warnings.warn(\n"
     ]
    }
   ],
   "source": [
    "from pyspark.sql import SparkSession\n",
    "from pyspark.streaming import StreamingContext\n",
    "from pyspark.sql.functions import col, when, unix_timestamp\n",
    "from pyspark.sql.types import StructType, StructField, IntegerType, StringType, FloatType\n",
    "\n",
    "# Initialisation de la session Spark\n",
    "spark = SparkSession.builder \\\n",
    "    .appName(\"IoT Data Pipeline\") \\\n",
    "    .getOrCreate()\n",
    "\n",
    "# Configuration de la source de données (ici on imagine une source Kafka)\n",
    "# Cette partie dépend de ton environnement spécifique et de la configuration de Kafka.\n",
    "\n"
   ]
  },
  {
   "cell_type": "code",
   "execution_count": null,
   "id": "47117a0e-bfeb-404f-a630-b263d4018309",
   "metadata": {},
   "outputs": [],
   "source": [
    "def transform_data(rdd):\n",
    "    if not rdd.isEmpty():\n",
    "        # Création d'un DataFrame Spark à partir de l'RDD\n",
    "        df = spark.read.json(rdd)\n",
    "        \n",
    "        # Transformation des données : ajout du timestamp et des ajustements nécessaires\n",
    "        df_transformed = df.withColumn(\"timestamp\", col(\"timestamp\").cast(\"timestamp\"))\n",
    "\n",
    "        # Appliquer des transformations supplémentaires si nécessaire\n",
    "        # Exemple : Ajouter un champ avec une saison en fonction de la date\n",
    "        df_transformed = df_transformed.withColumn(\n",
    "            \"season\", \n",
    "            udf(lambda month: \"saison_des_pluies\" if month in [7, 8, 9] else (\"saison_fraiche\" if month in [12, 1] else \"saison_seche\"), StringType())(col(\"timestamp\").cast(\"date\"))\n",
    "        )\n",
    "\n",
    "        return df_transformed\n",
    "    return None\n",
    "\n",
    "# Transformation en streaming\n",
    "processed_stream = raw_data_stream.transform(transform_data)\n",
    "\n",
    "# Affichage des données transformées pour vérification (optionnel)\n",
    "processed_stream.pprint()\n"
   ]
  },
  {
   "cell_type": "code",
   "execution_count": null,
   "id": "53c8720a-b23f-43a8-812b-34610491e96f",
   "metadata": {},
   "outputs": [],
   "source": []
  }
 ],
 "metadata": {
  "kernelspec": {
   "display_name": "Python 3 (ipykernel)",
   "language": "python",
   "name": "python3"
  },
  "language_info": {
   "codemirror_mode": {
    "name": "ipython",
    "version": 3
   },
   "file_extension": ".py",
   "mimetype": "text/x-python",
   "name": "python",
   "nbconvert_exporter": "python",
   "pygments_lexer": "ipython3",
   "version": "3.11.6"
  }
 },
 "nbformat": 4,
 "nbformat_minor": 5
}
